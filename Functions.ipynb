{
 "cells": [
  {
   "cell_type": "markdown",
   "id": "34bd0dbb-093d-412d-8925-905dc1041426",
   "metadata": {},
   "source": [
    "### Ans 1"
   ]
  },
  {
   "cell_type": "code",
   "execution_count": null,
   "id": "0829b2c6-f9f7-4d44-af4f-1969baf3f2c0",
   "metadata": {},
   "outputs": [],
   "source": [
    "'def' keyword iss used to creste a function."
   ]
  },
  {
   "cell_type": "code",
   "execution_count": 7,
   "id": "e516fb82-d9ef-4137-8d95-9338e9150564",
   "metadata": {},
   "outputs": [],
   "source": [
    "def odd_numbers():\n",
    "    odd_nums = []\n",
    "    for num in range(1, 26):\n",
    "        if num % 2 != 0:\n",
    "            odd_nums.append(num)\n",
    "    return odd_nums"
   ]
  },
  {
   "cell_type": "code",
   "execution_count": 8,
   "id": "bc8cac55-ff96-4c96-af44-af8526a27102",
   "metadata": {},
   "outputs": [
    {
     "data": {
      "text/plain": [
       "[1, 3, 5, 7, 9, 11, 13, 15, 17, 19, 21, 23, 25]"
      ]
     },
     "execution_count": 8,
     "metadata": {},
     "output_type": "execute_result"
    }
   ],
   "source": [
    "odd_numbers()"
   ]
  },
  {
   "cell_type": "markdown",
   "id": "b3838032-825c-4ec8-a5d3-756f516eff7b",
   "metadata": {},
   "source": [
    "### Ans 2"
   ]
  },
  {
   "cell_type": "code",
   "execution_count": null,
   "id": "65435540-ce1a-432b-8069-d588c536d928",
   "metadata": {},
   "outputs": [],
   "source": [
    "\"args\" is used to pass a variable number of non-keyword arguments to a function.\n",
    "\"**kwargs\" is used to pass a variable number of keyword arguments to a function."
   ]
  },
  {
   "cell_type": "code",
   "execution_count": 9,
   "id": "8849ff55-223e-48f5-b1d4-319f8d26c4a0",
   "metadata": {},
   "outputs": [],
   "source": [
    "def add_numbers(*args):\n",
    "    total = 0\n",
    "    for num in args:\n",
    "        total += num\n",
    "    return total"
   ]
  },
  {
   "cell_type": "code",
   "execution_count": 16,
   "id": "00cd5af0-39b9-453c-9ca1-13290b664366",
   "metadata": {},
   "outputs": [
    {
     "data": {
      "text/plain": [
       "15"
      ]
     },
     "execution_count": 16,
     "metadata": {},
     "output_type": "execute_result"
    }
   ],
   "source": [
    "add_numbers(1,2,3,4,5)"
   ]
  },
  {
   "cell_type": "code",
   "execution_count": 12,
   "id": "19008532-d2c3-4b9f-8d61-4a4d942fd276",
   "metadata": {},
   "outputs": [],
   "source": [
    "def print_info(**kwargs):\n",
    "    for key, value in kwargs.items():\n",
    "        print(f\"{key}: {value}\")"
   ]
  },
  {
   "cell_type": "code",
   "execution_count": 17,
   "id": "20ceff12-17e0-4fda-a71a-3f1a82cc8403",
   "metadata": {},
   "outputs": [
    {
     "name": "stdout",
     "output_type": "stream",
     "text": [
      "name: John\n",
      "age: 30\n",
      "city: New York\n"
     ]
    }
   ],
   "source": [
    "print_info(name=\"John\", age=30, city=\"New York\")"
   ]
  },
  {
   "cell_type": "markdown",
   "id": "9847ed84-51df-45ef-8b7e-993209397d27",
   "metadata": {},
   "source": [
    "### Ans 3"
   ]
  },
  {
   "cell_type": "code",
   "execution_count": null,
   "id": "5a696b5e-2c1e-4886-97ef-821112a70871",
   "metadata": {},
   "outputs": [],
   "source": [
    "An iterator in Python is an object that allows you to iterate over a collection of data, such as a list, a tuple, or a dictionary. Iterators are\n",
    "implemented using the Iterator Protocol, which requires that the object have two methods: _iter() and __next_()."
   ]
  },
  {
   "cell_type": "code",
   "execution_count": 22,
   "id": "fb427f5f-8c12-421e-ab9b-979bba4efecf",
   "metadata": {},
   "outputs": [
    {
     "name": "stdout",
     "output_type": "stream",
     "text": [
      "2\n",
      "4\n",
      "6\n",
      "8\n",
      "10\n"
     ]
    }
   ],
   "source": [
    "l = [2, 4, 6, 8, 10, 12, 14, 16, 18, 20]\n",
    "s = iter(l)\n",
    "for i in range(5):\n",
    "    print(next(s))"
   ]
  },
  {
   "cell_type": "markdown",
   "id": "1d11ced1-bb13-4e7e-a7b0-e88ad70e23eb",
   "metadata": {},
   "source": [
    "### Ans 4"
   ]
  },
  {
   "cell_type": "code",
   "execution_count": null,
   "id": "190c48ec-c395-4a78-a54b-1d35ee8b256f",
   "metadata": {},
   "outputs": [],
   "source": [
    "A generator function in Python is a special type of function that returns an iterator.\n",
    "The 'yield' keyword is used in generator functions to indicate where the function should be paused and the current value of the generator should be returned."
   ]
  },
  {
   "cell_type": "code",
   "execution_count": 23,
   "id": "a0d04fe1-c38d-4a84-a660-56755a355344",
   "metadata": {},
   "outputs": [],
   "source": [
    "def fib(n) :\n",
    "    a,b = 0,1\n",
    "    for i in range(n):\n",
    "        yield a \n",
    "        a,b = b ,a+b "
   ]
  },
  {
   "cell_type": "code",
   "execution_count": 24,
   "id": "294c89c5-3c9b-4d4f-8505-91150f6e6c78",
   "metadata": {},
   "outputs": [
    {
     "name": "stdout",
     "output_type": "stream",
     "text": [
      "0\n",
      "1\n",
      "1\n",
      "2\n",
      "3\n",
      "5\n",
      "8\n",
      "13\n",
      "21\n",
      "34\n"
     ]
    }
   ],
   "source": [
    "for i in fib(10):\n",
    "    print(i)"
   ]
  },
  {
   "cell_type": "markdown",
   "id": "659e5ab0-e3d4-4aeb-bb35-81a564f662b8",
   "metadata": {},
   "source": [
    "### Ans 5"
   ]
  },
  {
   "cell_type": "code",
   "execution_count": 8,
   "id": "f5ae124a-14e8-40c5-ad2d-ffc5a0d4b978",
   "metadata": {},
   "outputs": [],
   "source": [
    "def primes():\n",
    "    is_prime = [True] * 1000\n",
    "    is_prime[0] = is_prime[1] = False\n",
    "    for i in range(2, int(1000 ** 0.5) + 1):\n",
    "        if is_prime[i]:\n",
    "            for j in range(i * i, 1000, i):\n",
    "                is_prime[j] = False\n",
    "    for i in range(2, 1000):\n",
    "        if is_prime[i]:\n",
    "            yield i"
   ]
  },
  {
   "cell_type": "code",
   "execution_count": 10,
   "id": "71cc442a-bc19-4035-a071-44c838620c1a",
   "metadata": {},
   "outputs": [
    {
     "name": "stdout",
     "output_type": "stream",
     "text": [
      "2\n",
      "3\n",
      "5\n",
      "7\n",
      "11\n",
      "13\n",
      "17\n",
      "19\n",
      "23\n",
      "29\n",
      "31\n",
      "37\n",
      "41\n",
      "43\n",
      "47\n",
      "53\n",
      "59\n",
      "61\n",
      "67\n",
      "71\n"
     ]
    }
   ],
   "source": [
    "prime_generator = primes()\n",
    "for i in range(20):\n",
    "    print(next(prime_generator))"
   ]
  },
  {
   "cell_type": "code",
   "execution_count": null,
   "id": "831e3a65-b7f7-4b6a-a3a2-2114f577f82a",
   "metadata": {},
   "outputs": [],
   "source": []
  }
 ],
 "metadata": {
  "kernelspec": {
   "display_name": "Python 3 (ipykernel)",
   "language": "python",
   "name": "python3"
  },
  "language_info": {
   "codemirror_mode": {
    "name": "ipython",
    "version": 3
   },
   "file_extension": ".py",
   "mimetype": "text/x-python",
   "name": "python",
   "nbconvert_exporter": "python",
   "pygments_lexer": "ipython3",
   "version": "3.10.8"
  }
 },
 "nbformat": 4,
 "nbformat_minor": 5
}
